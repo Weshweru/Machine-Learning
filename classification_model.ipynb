{
 "cells": [
  {
   "cell_type": "code",
   "execution_count": null,
   "id": "1fd6868a-9957-478d-ac83-d50cc4042355",
   "metadata": {},
   "outputs": [],
   "source": [
    "#Importing Packages\n",
    "from sklearn import datasets\n",
    "from sklearn.model_selection import train_test_split\n",
    "from sklearn.ensemble import RandomForestClassifier\n",
    "from sklearn.datasets import make_classification"
   ]
  },
  {
   "cell_type": "code",
   "execution_count": 5,
   "id": "4395691e-de33-4366-8388-46e76b6b00a9",
   "metadata": {},
   "outputs": [
    {
     "ename": "NameError",
     "evalue": "name 'datasets' is not defined",
     "output_type": "error",
     "traceback": [
      "\u001b[1;31m---------------------------------------------------------------------------\u001b[0m",
      "\u001b[1;31mNameError\u001b[0m                                 Traceback (most recent call last)",
      "Cell \u001b[1;32mIn[5], line 2\u001b[0m\n\u001b[0;32m      1\u001b[0m \u001b[38;5;66;03m#Loading datasets\u001b[39;00m\n\u001b[1;32m----> 2\u001b[0m iris\u001b[38;5;241m=\u001b[39m\u001b[43mdatasets\u001b[49m\u001b[38;5;241m.\u001b[39mload_iris()\n",
      "\u001b[1;31mNameError\u001b[0m: name 'datasets' is not defined"
     ]
    }
   ],
   "source": [
    "#Loading datasets\n",
    "iris=datasets.load_iris()"
   ]
  },
  {
   "cell_type": "code",
   "execution_count": null,
   "id": "3a1f9581-3ac9-4985-8021-6e89b5165c37",
   "metadata": {},
   "outputs": [],
   "source": [
    "##Inputting Features\n",
    "print(iris.features_names)\n"
   ]
  },
  {
   "cell_type": "code",
   "execution_count": null,
   "id": "37075eb4-7136-4483-9213-3867e96a89fd",
   "metadata": {},
   "outputs": [],
   "source": [
    "##Output features\n",
    "print(iris.target_names)\n"
   ]
  },
  {
   "cell_type": "code",
   "execution_count": null,
   "id": "893f7646-9ea6-49bc-ab50-121b1e9c9d27",
   "metadata": {},
   "outputs": [],
   "source": [
    "#input feature\n",
    "Print(iris.data)\n"
   ]
  },
  {
   "cell_type": "code",
   "execution_count": null,
   "id": "eee440d6-77d1-4663-923b-42616bc4cf78",
   "metadata": {},
   "outputs": [],
   "source": [
    "#output feature\n",
    "print(iris.target)\n"
   ]
  },
  {
   "cell_type": "code",
   "execution_count": null,
   "id": "9a699a32-6ca0-48b2-b007-578e38534798",
   "metadata": {},
   "outputs": [],
   "source": [
    "#Assigning of variable on the input features\n",
    "x=iris.data\n"
   ]
  },
  {
   "cell_type": "code",
   "execution_count": null,
   "id": "c23dd438-2b8c-48c6-9b9a-bc7872ce84df",
   "metadata": {},
   "outputs": [],
   "source": [
    "#Assigning variables on the target\n",
    "y=iris.target\n"
   ]
  },
  {
   "cell_type": "code",
   "execution_count": null,
   "id": "d4bb60f4-fd77-400a-b14d-6f2a2c6696d1",
   "metadata": {},
   "outputs": [],
   "source": [
    "#Examining the data dimmension\n",
    "#shape of the input features\n",
    "print(x.shape)\n",
    "       \n",
    "       "
   ]
  },
  {
   "cell_type": "code",
   "execution_count": null,
   "id": "3e5f3a06-6654-4330-a32b-a81cd3119b73",
   "metadata": {},
   "outputs": [],
   "source": [
    "#shape of the target\n",
    "print(y.shape)\n",
    "\n"
   ]
  },
  {
   "cell_type": "code",
   "execution_count": null,
   "id": "2f860e0b-acc4-4556-845c-878199d3beec",
   "metadata": {},
   "outputs": [],
   "source": [
    "#Introducing the Randomforest classifier\n",
    "clf=Randomforestclassifier()\n"
   ]
  },
  {
   "cell_type": "code",
   "execution_count": null,
   "id": "6719b8b6-693d-42c4-b165-4ceed57b095a",
   "metadata": {},
   "outputs": [],
   "source": [
    "#Fitting the model\n",
    "clf.fit(x, y)\n"
   ]
  },
  {
   "cell_type": "code",
   "execution_count": null,
   "id": "d4d502ef-dd60-42ae-bb82-4893e2662de5",
   "metadata": {},
   "outputs": [],
   "source": [
    "#Feature importance\n",
    "print(clf.feature_importance_)\n"
   ]
  },
  {
   "cell_type": "code",
   "execution_count": null,
   "id": "fc57137f-5411-431a-84c1-bbc01ed4552d",
   "metadata": {},
   "outputs": [],
   "source": [
    "#Predicting x\n",
    "X[0]\n"
   ]
  },
  {
   "cell_type": "code",
   "execution_count": null,
   "id": "9147f430-533d-47cd-b3bc-302070c0c6be",
   "metadata": {},
   "outputs": [],
   "source": [
    "print(clf.predict([[5.1, 3.5, 1.4, 0.2]]))"
   ]
  },
  {
   "cell_type": "code",
   "execution_count": null,
   "id": "ffb966ba-c3f4-49dd-a2db-8201296e8e95",
   "metadata": {},
   "outputs": [],
   "source": [
    "print(clf.predict(X[[0]]))"
   ]
  },
  {
   "cell_type": "code",
   "execution_count": null,
   "id": "141e9cda-934d-4b28-a1e9-73c2d627d3c4",
   "metadata": {},
   "outputs": [],
   "source": [
    "print(clf.predict_proba(X[[0]]))"
   ]
  },
  {
   "cell_type": "code",
   "execution_count": null,
   "id": "8fcaa8d2-8ef7-441d-aa62-8bd510af5139",
   "metadata": {},
   "outputs": [],
   "source": [
    "clf.fit(iris.data, iris.target_names[iris.target])"
   ]
  },
  {
   "cell_type": "code",
   "execution_count": null,
   "id": "74fa4765-73c9-41a4-b525-75488bad9c95",
   "metadata": {},
   "outputs": [],
   "source": [
    "#Splitting The Data into trainning data and testing data\n",
    "x_train, x_test, y_train, y_test = train_test_split(x, y, test_sive=0.2)\n"
   ]
  },
  {
   "cell_type": "code",
   "execution_count": null,
   "id": "e566ee63-8d93-4cbc-9464-19a84561500c",
   "metadata": {},
   "outputs": [],
   "source": [
    "#checking on the shape of the train and test data\n",
    "x_train.shape, y_train.shape"
   ]
  },
  {
   "cell_type": "code",
   "execution_count": null,
   "id": "3e40b081-e854-46cf-aa60-25e5027c1af8",
   "metadata": {},
   "outputs": [],
   "source": [
    "y_test.shape, x_test.shape\n"
   ]
  },
  {
   "cell_type": "code",
   "execution_count": null,
   "id": "58a8d3ef-f7a9-4ed2-a47a-fa3377ff7811",
   "metadata": {},
   "outputs": [],
   "source": [
    "##Rebuilding the random forest\n",
    "clf.fit=(x_train,y_train)\n"
   ]
  },
  {
   "cell_type": "code",
   "execution_count": null,
   "id": "6ba68327-88a3-4188-a8be-736123230873",
   "metadata": {},
   "outputs": [],
   "source": [
    "#Performs prediction on single sample from the data set\n",
    "print(clf.predict([[5.1, 3.5, 1.4, 0.2]]))"
   ]
  },
  {
   "cell_type": "code",
   "execution_count": null,
   "id": "da9512f2-7950-402f-ac29-9ee1c3d6fe93",
   "metadata": {},
   "outputs": [],
   "source": [
    "print(clf.predict_proba([[5.1, 3.5, 1.4, 0.2]]))"
   ]
  },
  {
   "cell_type": "code",
   "execution_count": null,
   "id": "5276f4a3-7c16-4e5a-ad63-0b53b5e1e390",
   "metadata": {},
   "outputs": [],
   "source": [
    "print(clf.predict(X_test))"
   ]
  },
  {
   "cell_type": "code",
   "execution_count": null,
   "id": "ebb072d7-23a0-4989-a02c-227cfaaeeba7",
   "metadata": {},
   "outputs": [],
   "source": [
    "print(y_test)"
   ]
  },
  {
   "cell_type": "code",
   "execution_count": null,
   "id": "af289d82-2d20-45c0-82db-9ab2d2d8801e",
   "metadata": {},
   "outputs": [],
   "source": [
    "print(clf.score(X_test, Y_test))"
   ]
  }
 ],
 "metadata": {
  "kernelspec": {
   "display_name": "Python 3 (ipykernel)",
   "language": "python",
   "name": "python3"
  },
  "language_info": {
   "codemirror_mode": {
    "name": "ipython",
    "version": 3
   },
   "file_extension": ".py",
   "mimetype": "text/x-python",
   "name": "python",
   "nbconvert_exporter": "python",
   "pygments_lexer": "ipython3",
   "version": "3.11.4"
  }
 },
 "nbformat": 4,
 "nbformat_minor": 5
}
